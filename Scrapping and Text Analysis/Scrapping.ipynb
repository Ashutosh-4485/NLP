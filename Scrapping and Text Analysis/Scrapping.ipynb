{
 "cells": [
  {
   "cell_type": "code",
   "execution_count": 15,
   "id": "5fcca9fa",
   "metadata": {},
   "outputs": [],
   "source": [
    "from random import randint\n",
    "from time import sleep\n",
    "import requests\n",
    "from bs4 import BeautifulSoup as bs\n",
    "import numpy as np"
   ]
  },
  {
   "cell_type": "code",
   "execution_count": 16,
   "id": "0341d729",
   "metadata": {},
   "outputs": [
    {
     "data": {
      "text/html": [
       "<div>\n",
       "<style scoped>\n",
       "    .dataframe tbody tr th:only-of-type {\n",
       "        vertical-align: middle;\n",
       "    }\n",
       "\n",
       "    .dataframe tbody tr th {\n",
       "        vertical-align: top;\n",
       "    }\n",
       "\n",
       "    .dataframe thead th {\n",
       "        text-align: right;\n",
       "    }\n",
       "</style>\n",
       "<table border=\"1\" class=\"dataframe\">\n",
       "  <thead>\n",
       "    <tr style=\"text-align: right;\">\n",
       "      <th></th>\n",
       "      <th>URL_ID</th>\n",
       "      <th>URL</th>\n",
       "    </tr>\n",
       "  </thead>\n",
       "  <tbody>\n",
       "    <tr>\n",
       "      <th>0</th>\n",
       "      <td>37.0</td>\n",
       "      <td>https://insights.blackcoffer.com/ai-in-healthc...</td>\n",
       "    </tr>\n",
       "    <tr>\n",
       "      <th>1</th>\n",
       "      <td>38.0</td>\n",
       "      <td>https://insights.blackcoffer.com/what-if-the-c...</td>\n",
       "    </tr>\n",
       "    <tr>\n",
       "      <th>2</th>\n",
       "      <td>39.0</td>\n",
       "      <td>https://insights.blackcoffer.com/what-jobs-wil...</td>\n",
       "    </tr>\n",
       "    <tr>\n",
       "      <th>3</th>\n",
       "      <td>40.0</td>\n",
       "      <td>https://insights.blackcoffer.com/will-machine-...</td>\n",
       "    </tr>\n",
       "    <tr>\n",
       "      <th>4</th>\n",
       "      <td>41.0</td>\n",
       "      <td>https://insights.blackcoffer.com/will-ai-repla...</td>\n",
       "    </tr>\n",
       "  </tbody>\n",
       "</table>\n",
       "</div>"
      ],
      "text/plain": [
       "   URL_ID                                                URL\n",
       "0    37.0  https://insights.blackcoffer.com/ai-in-healthc...\n",
       "1    38.0  https://insights.blackcoffer.com/what-if-the-c...\n",
       "2    39.0  https://insights.blackcoffer.com/what-jobs-wil...\n",
       "3    40.0  https://insights.blackcoffer.com/will-machine-...\n",
       "4    41.0  https://insights.blackcoffer.com/will-ai-repla..."
      ]
     },
     "execution_count": 16,
     "metadata": {},
     "output_type": "execute_result"
    }
   ],
   "source": [
    "import pandas as pd\n",
    "df = pd.read_excel(r'Input.xlsx')\n",
    "df.head()"
   ]
  },
  {
   "cell_type": "code",
   "execution_count": 17,
   "id": "cfa74487",
   "metadata": {},
   "outputs": [
    {
     "data": {
      "text/plain": [
       "(114, 2)"
      ]
     },
     "execution_count": 17,
     "metadata": {},
     "output_type": "execute_result"
    }
   ],
   "source": [
    "URL=df['URL']\n",
    "df.shape"
   ]
  },
  {
   "cell_type": "code",
   "execution_count": 18,
   "id": "8bddbe27",
   "metadata": {},
   "outputs": [],
   "source": [
    "title=[]\n",
    "text=[]\n",
    "\n",
    "\n",
    "for url in range(0,113):\n",
    "    try:\n",
    "        req = requests.get(URL[url])\n",
    "        soup = bs(req.text, 'html.parser')\n",
    "        article_title=soup.title\n",
    "        titles=article_title.string\n",
    "        title.append(titles)\n",
    "\n",
    "        article_text=soup.find(\"div\",attrs={\"class\": \"td-post-content\"} )\n",
    "        texts=article_text.get_text()\n",
    "\n",
    "        art=texts\n",
    "        text.append(art)\n",
    "        x=37 + url\n",
    "        #file=open( str(x) +\".txt\",\"w\")\n",
    "        #file.write(art)\n",
    "        #sleep(randint(2,5))\n",
    "    except:\n",
    "        pass"
   ]
  },
  {
   "cell_type": "code",
   "execution_count": 21,
   "id": "40ada2cc",
   "metadata": {},
   "outputs": [],
   "source": [
    "import pandas as pd"
   ]
  },
  {
   "cell_type": "code",
   "execution_count": 22,
   "id": "e1820bd5",
   "metadata": {},
   "outputs": [
    {
     "data": {
      "text/html": [
       "<div>\n",
       "<style scoped>\n",
       "    .dataframe tbody tr th:only-of-type {\n",
       "        vertical-align: middle;\n",
       "    }\n",
       "\n",
       "    .dataframe tbody tr th {\n",
       "        vertical-align: top;\n",
       "    }\n",
       "\n",
       "    .dataframe thead th {\n",
       "        text-align: right;\n",
       "    }\n",
       "</style>\n",
       "<table border=\"1\" class=\"dataframe\">\n",
       "  <thead>\n",
       "    <tr style=\"text-align: right;\">\n",
       "      <th></th>\n",
       "      <th>Title</th>\n",
       "      <th>Text</th>\n",
       "    </tr>\n",
       "  </thead>\n",
       "  <tbody>\n",
       "    <tr>\n",
       "      <th>0</th>\n",
       "      <td>AI in healthcare to Improve Patient Outcomes -...</td>\n",
       "      <td>\\nIntroduction\\n“If anything kills over 10 mil...</td>\n",
       "    </tr>\n",
       "    <tr>\n",
       "      <th>1</th>\n",
       "      <td>What if the Creation is Taking Over the Creato...</td>\n",
       "      <td>\\nHuman minds, a fascination in itself carryin...</td>\n",
       "    </tr>\n",
       "    <tr>\n",
       "      <th>2</th>\n",
       "      <td>What Jobs Will Robots Take From Humans in The ...</td>\n",
       "      <td>\\nIntroduction\\nAI is rapidly evolving in the ...</td>\n",
       "    </tr>\n",
       "    <tr>\n",
       "      <th>3</th>\n",
       "      <td>Will Machine Replace The Human in the Future o...</td>\n",
       "      <td>\\n“Anything that could give rise to smarter-th...</td>\n",
       "    </tr>\n",
       "    <tr>\n",
       "      <th>4</th>\n",
       "      <td>Will AI Replace Us or Work With Us? - Blackcof...</td>\n",
       "      <td>\\n“Machine intelligence is the last invention ...</td>\n",
       "    </tr>\n",
       "    <tr>\n",
       "      <th>...</th>\n",
       "      <td>...</td>\n",
       "      <td>...</td>\n",
       "    </tr>\n",
       "    <tr>\n",
       "      <th>105</th>\n",
       "      <td>Impact of Indian Economy due to COVID-19 - Bla...</td>\n",
       "      <td>\\nDisruption in Fintech – The Lightning Networ...</td>\n",
       "    </tr>\n",
       "    <tr>\n",
       "      <th>106</th>\n",
       "      <td>Impact of newly discovered coronavirus on the ...</td>\n",
       "      <td>\\nReconciling with the financial realities of ...</td>\n",
       "    </tr>\n",
       "    <tr>\n",
       "      <th>107</th>\n",
       "      <td>Page not found - Blackcoffer Insights</td>\n",
       "      <td>\\nWhat Is an Investment?\\nAn investment is a r...</td>\n",
       "    </tr>\n",
       "    <tr>\n",
       "      <th>108</th>\n",
       "      <td>Blockchain in Fintech - Blackcoffer Insights</td>\n",
       "      <td>\\nQuality and affordable healthcare is a visio...</td>\n",
       "    </tr>\n",
       "    <tr>\n",
       "      <th>109</th>\n",
       "      <td>Blockchain for Payments - Blackcoffer Insights</td>\n",
       "      <td>\\nAnalytics is a statistical scientific proces...</td>\n",
       "    </tr>\n",
       "  </tbody>\n",
       "</table>\n",
       "<p>110 rows × 2 columns</p>\n",
       "</div>"
      ],
      "text/plain": [
       "                                                 Title  \\\n",
       "0    AI in healthcare to Improve Patient Outcomes -...   \n",
       "1    What if the Creation is Taking Over the Creato...   \n",
       "2    What Jobs Will Robots Take From Humans in The ...   \n",
       "3    Will Machine Replace The Human in the Future o...   \n",
       "4    Will AI Replace Us or Work With Us? - Blackcof...   \n",
       "..                                                 ...   \n",
       "105  Impact of Indian Economy due to COVID-19 - Bla...   \n",
       "106  Impact of newly discovered coronavirus on the ...   \n",
       "107              Page not found - Blackcoffer Insights   \n",
       "108       Blockchain in Fintech - Blackcoffer Insights   \n",
       "109     Blockchain for Payments - Blackcoffer Insights   \n",
       "\n",
       "                                                  Text  \n",
       "0    \\nIntroduction\\n“If anything kills over 10 mil...  \n",
       "1    \\nHuman minds, a fascination in itself carryin...  \n",
       "2    \\nIntroduction\\nAI is rapidly evolving in the ...  \n",
       "3    \\n“Anything that could give rise to smarter-th...  \n",
       "4    \\n“Machine intelligence is the last invention ...  \n",
       "..                                                 ...  \n",
       "105  \\nDisruption in Fintech – The Lightning Networ...  \n",
       "106  \\nReconciling with the financial realities of ...  \n",
       "107  \\nWhat Is an Investment?\\nAn investment is a r...  \n",
       "108  \\nQuality and affordable healthcare is a visio...  \n",
       "109  \\nAnalytics is a statistical scientific proces...  \n",
       "\n",
       "[110 rows x 2 columns]"
      ]
     },
     "execution_count": 22,
     "metadata": {},
     "output_type": "execute_result"
    }
   ],
   "source": [
    "df = pd.DataFrame(list(zip(title, text)),columns =['Title', 'Text'])\n",
    "df"
   ]
  },
  {
   "cell_type": "code",
   "execution_count": 23,
   "id": "88703a9b",
   "metadata": {},
   "outputs": [],
   "source": [
    "df.to_csv('file.csv')"
   ]
  },
  {
   "cell_type": "code",
   "execution_count": null,
   "id": "9c5c297b",
   "metadata": {},
   "outputs": [],
   "source": []
  }
 ],
 "metadata": {
  "kernelspec": {
   "display_name": "Python 3 (ipykernel)",
   "language": "python",
   "name": "python3"
  },
  "language_info": {
   "codemirror_mode": {
    "name": "ipython",
    "version": 3
   },
   "file_extension": ".py",
   "mimetype": "text/x-python",
   "name": "python",
   "nbconvert_exporter": "python",
   "pygments_lexer": "ipython3",
   "version": "3.9.10"
  }
 },
 "nbformat": 4,
 "nbformat_minor": 5
}
